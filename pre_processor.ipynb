{
 "cells": [
  {
   "cell_type": "code",
   "execution_count": 1,
   "metadata": {},
   "outputs": [],
   "source": [
    "import csv\n",
    "import pandas as pd\n",
    "import numpy as np\n",
    "import re\n",
    "from sklearn.model_selection import train_test_split\n",
    "from sklearn.naive_bayes import MultinomialNB\n",
    "from sklearn.naive_bayes import BernoulliNB\n",
    "from sklearn.linear_model import LogisticRegression\n",
    "from sklearn.feature_extraction.text import CountVectorizer, TfidfTransformer\n",
    "import re\n",
    "from sklearn.model_selection import train_test_split\n",
    "from sklearn.metrics import accuracy_score"
   ]
  },
  {
   "cell_type": "code",
   "execution_count": 2,
   "metadata": {},
   "outputs": [
    {
     "data": {
      "text/html": [
       "<div>\n",
       "<style scoped>\n",
       "    .dataframe tbody tr th:only-of-type {\n",
       "        vertical-align: middle;\n",
       "    }\n",
       "\n",
       "    .dataframe tbody tr th {\n",
       "        vertical-align: top;\n",
       "    }\n",
       "\n",
       "    .dataframe thead th {\n",
       "        text-align: right;\n",
       "    }\n",
       "</style>\n",
       "<table border=\"1\" class=\"dataframe\">\n",
       "  <thead>\n",
       "    <tr style=\"text-align: right;\">\n",
       "      <th></th>\n",
       "      <th>asin</th>\n",
       "      <th>helpful</th>\n",
       "      <th>overall</th>\n",
       "      <th>reviewText</th>\n",
       "      <th>reviewTime</th>\n",
       "      <th>reviewerID</th>\n",
       "      <th>reviewerName</th>\n",
       "      <th>summary</th>\n",
       "      <th>unixReviewTime</th>\n",
       "    </tr>\n",
       "  </thead>\n",
       "  <tbody>\n",
       "    <tr>\n",
       "      <th>0</th>\n",
       "      <td>0005019281</td>\n",
       "      <td>[0, 0]</td>\n",
       "      <td>4</td>\n",
       "      <td>This is a charming version of the classic Dick...</td>\n",
       "      <td>02 26, 2008</td>\n",
       "      <td>ADZPIG9QOCDG5</td>\n",
       "      <td>Alice L. Larson \"alice-loves-books\"</td>\n",
       "      <td>good version of a classic</td>\n",
       "      <td>1203984000</td>\n",
       "    </tr>\n",
       "    <tr>\n",
       "      <th>1</th>\n",
       "      <td>0005019281</td>\n",
       "      <td>[0, 0]</td>\n",
       "      <td>3</td>\n",
       "      <td>It was good but not as emotionally moving as t...</td>\n",
       "      <td>12 30, 2013</td>\n",
       "      <td>A35947ZP82G7JH</td>\n",
       "      <td>Amarah Strack</td>\n",
       "      <td>Good but not as moving</td>\n",
       "      <td>1388361600</td>\n",
       "    </tr>\n",
       "    <tr>\n",
       "      <th>2</th>\n",
       "      <td>0005019281</td>\n",
       "      <td>[0, 0]</td>\n",
       "      <td>3</td>\n",
       "      <td>Don't get me wrong, Winkler is a wonderful cha...</td>\n",
       "      <td>12 30, 2013</td>\n",
       "      <td>A3UORV8A9D5L2E</td>\n",
       "      <td>Amazon Customer</td>\n",
       "      <td>Winkler's Performance was ok at best!</td>\n",
       "      <td>1388361600</td>\n",
       "    </tr>\n",
       "    <tr>\n",
       "      <th>3</th>\n",
       "      <td>0005019281</td>\n",
       "      <td>[0, 0]</td>\n",
       "      <td>5</td>\n",
       "      <td>Henry Winkler is very good in this twist on th...</td>\n",
       "      <td>02 13, 2008</td>\n",
       "      <td>A1VKW06X1O2X7V</td>\n",
       "      <td>Amazon Customer \"Softmill\"</td>\n",
       "      <td>It's an enjoyable twist on the classic story</td>\n",
       "      <td>1202860800</td>\n",
       "    </tr>\n",
       "    <tr>\n",
       "      <th>4</th>\n",
       "      <td>0005019281</td>\n",
       "      <td>[0, 0]</td>\n",
       "      <td>4</td>\n",
       "      <td>This is one of the best Scrooge movies out.  H...</td>\n",
       "      <td>12 22, 2013</td>\n",
       "      <td>A3R27T4HADWFFJ</td>\n",
       "      <td>BABE</td>\n",
       "      <td>Best Scrooge yet</td>\n",
       "      <td>1387670400</td>\n",
       "    </tr>\n",
       "  </tbody>\n",
       "</table>\n",
       "</div>"
      ],
      "text/plain": [
       "         asin helpful  overall  \\\n",
       "0  0005019281  [0, 0]        4   \n",
       "1  0005019281  [0, 0]        3   \n",
       "2  0005019281  [0, 0]        3   \n",
       "3  0005019281  [0, 0]        5   \n",
       "4  0005019281  [0, 0]        4   \n",
       "\n",
       "                                          reviewText   reviewTime  \\\n",
       "0  This is a charming version of the classic Dick...  02 26, 2008   \n",
       "1  It was good but not as emotionally moving as t...  12 30, 2013   \n",
       "2  Don't get me wrong, Winkler is a wonderful cha...  12 30, 2013   \n",
       "3  Henry Winkler is very good in this twist on th...  02 13, 2008   \n",
       "4  This is one of the best Scrooge movies out.  H...  12 22, 2013   \n",
       "\n",
       "       reviewerID                         reviewerName  \\\n",
       "0   ADZPIG9QOCDG5  Alice L. Larson \"alice-loves-books\"   \n",
       "1  A35947ZP82G7JH                        Amarah Strack   \n",
       "2  A3UORV8A9D5L2E                      Amazon Customer   \n",
       "3  A1VKW06X1O2X7V           Amazon Customer \"Softmill\"   \n",
       "4  A3R27T4HADWFFJ                                 BABE   \n",
       "\n",
       "                                        summary  unixReviewTime  \n",
       "0                     good version of a classic      1203984000  \n",
       "1                        Good but not as moving      1388361600  \n",
       "2         Winkler's Performance was ok at best!      1388361600  \n",
       "3  It's an enjoyable twist on the classic story      1202860800  \n",
       "4                              Best Scrooge yet      1387670400  "
      ]
     },
     "execution_count": 2,
     "metadata": {},
     "output_type": "execute_result"
    }
   ],
   "source": [
    "df = pd.read_json('reviews_Movies_and_TV_5.json', lines=True)\n",
    "df.head()"
   ]
  },
  {
   "cell_type": "code",
   "execution_count": 25,
   "metadata": {},
   "outputs": [],
   "source": [
    "df2 = df[pd.notnull(df['reviewText'])]"
   ]
  },
  {
   "cell_type": "code",
   "execution_count": 4,
   "metadata": {},
   "outputs": [
    {
     "data": {
      "text/plain": [
       "1088752"
      ]
     },
     "execution_count": 4,
     "metadata": {},
     "output_type": "execute_result"
    }
   ],
   "source": []
  },
  {
   "cell_type": "code",
   "execution_count": 26,
   "metadata": {},
   "outputs": [],
   "source": [
    "df_asin_review_text = df2[['asin','reviewText']]\n",
    "df_asin_review_count = df_asin_review_text.groupby(\"asin\", as_index=False).count()\n",
    "\n",
    "df_knn = df_asin_review_count[df_asin_review_count.reviewText >=100]\n",
    "df_sentiment = df_asin_review_count[df_asin_review_count.reviewText  < 100]\n",
    "\n",
    "final_df_knn = df2.loc[df2['asin'].isin(df_knn['asin'])]\n",
    "\n",
    "final_df_sentiment = df2.loc[df2['asin'].isin(df_sentiment['asin'])]\n",
    "\n",
    "final_df_knn.to_json('final_df_knn.json')\n",
    "final_df_sentiment.to_json('final_df_sentiment.json')"
   ]
  },
  {
   "cell_type": "code",
   "execution_count": 27,
   "metadata": {},
   "outputs": [
    {
     "data": {
      "text/plain": [
       "809924"
      ]
     },
     "execution_count": 27,
     "metadata": {},
     "output_type": "execute_result"
    }
   ],
   "source": [
    "len(final_df_knn)"
   ]
  },
  {
   "cell_type": "code",
   "execution_count": 28,
   "metadata": {},
   "outputs": [
    {
     "data": {
      "text/plain": [
       "887609"
      ]
     },
     "execution_count": 28,
     "metadata": {},
     "output_type": "execute_result"
    }
   ],
   "source": [
    "len(final_df_sentiment)"
   ]
  },
  {
   "cell_type": "code",
   "execution_count": 29,
   "metadata": {},
   "outputs": [
    {
     "data": {
      "text/html": [
       "<div>\n",
       "<style scoped>\n",
       "    .dataframe tbody tr th:only-of-type {\n",
       "        vertical-align: middle;\n",
       "    }\n",
       "\n",
       "    .dataframe tbody tr th {\n",
       "        vertical-align: top;\n",
       "    }\n",
       "\n",
       "    .dataframe thead th {\n",
       "        text-align: right;\n",
       "    }\n",
       "</style>\n",
       "<table border=\"1\" class=\"dataframe\">\n",
       "  <thead>\n",
       "    <tr style=\"text-align: right;\">\n",
       "      <th></th>\n",
       "      <th>asin</th>\n",
       "      <th>helpful</th>\n",
       "      <th>overall</th>\n",
       "      <th>reviewText</th>\n",
       "      <th>reviewTime</th>\n",
       "      <th>reviewerID</th>\n",
       "      <th>reviewerName</th>\n",
       "      <th>summary</th>\n",
       "      <th>unixReviewTime</th>\n",
       "    </tr>\n",
       "  </thead>\n",
       "  <tbody>\n",
       "    <tr>\n",
       "      <th>109</th>\n",
       "      <td>0005119367</td>\n",
       "      <td>[1, 1]</td>\n",
       "      <td>4</td>\n",
       "      <td>A truly wonderfully made film, mostly accurate...</td>\n",
       "      <td>07 6, 2006</td>\n",
       "      <td>AJSYTZQVJJOYW</td>\n",
       "      <td>A. Abela</td>\n",
       "      <td>Wonderful!!!</td>\n",
       "      <td>1152144000</td>\n",
       "    </tr>\n",
       "    <tr>\n",
       "      <th>110</th>\n",
       "      <td>0005119367</td>\n",
       "      <td>[1, 1]</td>\n",
       "      <td>5</td>\n",
       "      <td>Joseph is amazing story to read and watch.  A ...</td>\n",
       "      <td>05 1, 2010</td>\n",
       "      <td>A1QNGKV688Q8TE</td>\n",
       "      <td>Aaron D. Koehler</td>\n",
       "      <td>Joseph</td>\n",
       "      <td>1272672000</td>\n",
       "    </tr>\n",
       "    <tr>\n",
       "      <th>111</th>\n",
       "      <td>0005119367</td>\n",
       "      <td>[4, 4]</td>\n",
       "      <td>5</td>\n",
       "      <td>This WONDERFUL film is a total treat on every ...</td>\n",
       "      <td>03 15, 2005</td>\n",
       "      <td>A36311XF4O81IK</td>\n",
       "      <td>A. J. Trivette</td>\n",
       "      <td>As real as it gets!</td>\n",
       "      <td>1110844800</td>\n",
       "    </tr>\n",
       "    <tr>\n",
       "      <th>112</th>\n",
       "      <td>0005119367</td>\n",
       "      <td>[102, 106]</td>\n",
       "      <td>5</td>\n",
       "      <td>Though this interpretation of Joseph's life ha...</td>\n",
       "      <td>02 21, 2004</td>\n",
       "      <td>AQ8DU6XVA3USJ</td>\n",
       "      <td>Alejandra Vernon \"artist &amp; illustrator\"</td>\n",
       "      <td>a man of character and faith</td>\n",
       "      <td>1077321600</td>\n",
       "    </tr>\n",
       "    <tr>\n",
       "      <th>113</th>\n",
       "      <td>0005119367</td>\n",
       "      <td>[1, 1]</td>\n",
       "      <td>5</td>\n",
       "      <td>I loved this story about Joseph. It's one of m...</td>\n",
       "      <td>01 22, 2009</td>\n",
       "      <td>A1ZLFCUF4XX7RZ</td>\n",
       "      <td>Alex</td>\n",
       "      <td>True Faith</td>\n",
       "      <td>1232582400</td>\n",
       "    </tr>\n",
       "  </tbody>\n",
       "</table>\n",
       "</div>"
      ],
      "text/plain": [
       "           asin     helpful  overall  \\\n",
       "109  0005119367      [1, 1]        4   \n",
       "110  0005119367      [1, 1]        5   \n",
       "111  0005119367      [4, 4]        5   \n",
       "112  0005119367  [102, 106]        5   \n",
       "113  0005119367      [1, 1]        5   \n",
       "\n",
       "                                            reviewText   reviewTime  \\\n",
       "109  A truly wonderfully made film, mostly accurate...   07 6, 2006   \n",
       "110  Joseph is amazing story to read and watch.  A ...   05 1, 2010   \n",
       "111  This WONDERFUL film is a total treat on every ...  03 15, 2005   \n",
       "112  Though this interpretation of Joseph's life ha...  02 21, 2004   \n",
       "113  I loved this story about Joseph. It's one of m...  01 22, 2009   \n",
       "\n",
       "         reviewerID                             reviewerName  \\\n",
       "109   AJSYTZQVJJOYW                                 A. Abela   \n",
       "110  A1QNGKV688Q8TE                         Aaron D. Koehler   \n",
       "111  A36311XF4O81IK                           A. J. Trivette   \n",
       "112   AQ8DU6XVA3USJ  Alejandra Vernon \"artist & illustrator\"   \n",
       "113  A1ZLFCUF4XX7RZ                                     Alex   \n",
       "\n",
       "                          summary  unixReviewTime  \n",
       "109                  Wonderful!!!      1152144000  \n",
       "110                        Joseph      1272672000  \n",
       "111           As real as it gets!      1110844800  \n",
       "112  a man of character and faith      1077321600  \n",
       "113                    True Faith      1232582400  "
      ]
     },
     "execution_count": 29,
     "metadata": {},
     "output_type": "execute_result"
    }
   ],
   "source": [
    "len(df2)\n",
    "\n",
    "final_df_sentiment.head()"
   ]
  },
  {
   "cell_type": "code",
   "execution_count": 30,
   "metadata": {},
   "outputs": [
    {
     "data": {
      "text/html": [
       "<div>\n",
       "<style scoped>\n",
       "    .dataframe tbody tr th:only-of-type {\n",
       "        vertical-align: middle;\n",
       "    }\n",
       "\n",
       "    .dataframe tbody tr th {\n",
       "        vertical-align: top;\n",
       "    }\n",
       "\n",
       "    .dataframe thead th {\n",
       "        text-align: right;\n",
       "    }\n",
       "</style>\n",
       "<table border=\"1\" class=\"dataframe\">\n",
       "  <thead>\n",
       "    <tr style=\"text-align: right;\">\n",
       "      <th></th>\n",
       "      <th>asin</th>\n",
       "      <th>helpful</th>\n",
       "      <th>overall</th>\n",
       "      <th>reviewText</th>\n",
       "      <th>reviewTime</th>\n",
       "      <th>reviewerID</th>\n",
       "      <th>reviewerName</th>\n",
       "      <th>summary</th>\n",
       "      <th>unixReviewTime</th>\n",
       "      <th>numerator</th>\n",
       "      <th>denominator</th>\n",
       "    </tr>\n",
       "  </thead>\n",
       "  <tbody>\n",
       "    <tr>\n",
       "      <th>109</th>\n",
       "      <td>0005119367</td>\n",
       "      <td>[1, 1]</td>\n",
       "      <td>4</td>\n",
       "      <td>A truly wonderfully made film, mostly accurate...</td>\n",
       "      <td>07 6, 2006</td>\n",
       "      <td>AJSYTZQVJJOYW</td>\n",
       "      <td>A. Abela</td>\n",
       "      <td>Wonderful!!!</td>\n",
       "      <td>1152144000</td>\n",
       "      <td>NaN</td>\n",
       "      <td>NaN</td>\n",
       "    </tr>\n",
       "    <tr>\n",
       "      <th>110</th>\n",
       "      <td>0005119367</td>\n",
       "      <td>[1, 1]</td>\n",
       "      <td>5</td>\n",
       "      <td>Joseph is amazing story to read and watch.  A ...</td>\n",
       "      <td>05 1, 2010</td>\n",
       "      <td>A1QNGKV688Q8TE</td>\n",
       "      <td>Aaron D. Koehler</td>\n",
       "      <td>Joseph</td>\n",
       "      <td>1272672000</td>\n",
       "      <td>NaN</td>\n",
       "      <td>NaN</td>\n",
       "    </tr>\n",
       "    <tr>\n",
       "      <th>111</th>\n",
       "      <td>0005119367</td>\n",
       "      <td>[4, 4]</td>\n",
       "      <td>5</td>\n",
       "      <td>This WONDERFUL film is a total treat on every ...</td>\n",
       "      <td>03 15, 2005</td>\n",
       "      <td>A36311XF4O81IK</td>\n",
       "      <td>A. J. Trivette</td>\n",
       "      <td>As real as it gets!</td>\n",
       "      <td>1110844800</td>\n",
       "      <td>NaN</td>\n",
       "      <td>NaN</td>\n",
       "    </tr>\n",
       "    <tr>\n",
       "      <th>112</th>\n",
       "      <td>0005119367</td>\n",
       "      <td>[102, 106]</td>\n",
       "      <td>5</td>\n",
       "      <td>Though this interpretation of Joseph's life ha...</td>\n",
       "      <td>02 21, 2004</td>\n",
       "      <td>AQ8DU6XVA3USJ</td>\n",
       "      <td>Alejandra Vernon \"artist &amp; illustrator\"</td>\n",
       "      <td>a man of character and faith</td>\n",
       "      <td>1077321600</td>\n",
       "      <td>NaN</td>\n",
       "      <td>NaN</td>\n",
       "    </tr>\n",
       "    <tr>\n",
       "      <th>113</th>\n",
       "      <td>0005119367</td>\n",
       "      <td>[1, 1]</td>\n",
       "      <td>5</td>\n",
       "      <td>I loved this story about Joseph. It's one of m...</td>\n",
       "      <td>01 22, 2009</td>\n",
       "      <td>A1ZLFCUF4XX7RZ</td>\n",
       "      <td>Alex</td>\n",
       "      <td>True Faith</td>\n",
       "      <td>1232582400</td>\n",
       "      <td>NaN</td>\n",
       "      <td>NaN</td>\n",
       "    </tr>\n",
       "  </tbody>\n",
       "</table>\n",
       "</div>"
      ],
      "text/plain": [
       "           asin     helpful  overall  \\\n",
       "109  0005119367      [1, 1]        4   \n",
       "110  0005119367      [1, 1]        5   \n",
       "111  0005119367      [4, 4]        5   \n",
       "112  0005119367  [102, 106]        5   \n",
       "113  0005119367      [1, 1]        5   \n",
       "\n",
       "                                            reviewText   reviewTime  \\\n",
       "109  A truly wonderfully made film, mostly accurate...   07 6, 2006   \n",
       "110  Joseph is amazing story to read and watch.  A ...   05 1, 2010   \n",
       "111  This WONDERFUL film is a total treat on every ...  03 15, 2005   \n",
       "112  Though this interpretation of Joseph's life ha...  02 21, 2004   \n",
       "113  I loved this story about Joseph. It's one of m...  01 22, 2009   \n",
       "\n",
       "         reviewerID                             reviewerName  \\\n",
       "109   AJSYTZQVJJOYW                                 A. Abela   \n",
       "110  A1QNGKV688Q8TE                         Aaron D. Koehler   \n",
       "111  A36311XF4O81IK                           A. J. Trivette   \n",
       "112   AQ8DU6XVA3USJ  Alejandra Vernon \"artist & illustrator\"   \n",
       "113  A1ZLFCUF4XX7RZ                                     Alex   \n",
       "\n",
       "                          summary  unixReviewTime  numerator  denominator  \n",
       "109                  Wonderful!!!      1152144000        NaN          NaN  \n",
       "110                        Joseph      1272672000        NaN          NaN  \n",
       "111           As real as it gets!      1110844800        NaN          NaN  \n",
       "112  a man of character and faith      1077321600        NaN          NaN  \n",
       "113                    True Faith      1232582400        NaN          NaN  "
      ]
     },
     "execution_count": 30,
     "metadata": {},
     "output_type": "execute_result"
    }
   ],
   "source": [
    "\n",
    "final_df_sentiment = final_df_sentiment.reindex(columns=['asin', 'helpful', 'overall', 'reviewText', 'reviewTime', 'reviewerID', 'reviewerName','summary','unixReviewTime','numerator','denominator'])\n",
    "final_df_sentiment.head()\n",
    "\n",
    "\n",
    "# helpful_df = pd.DataFrame(final_df_sentiment.helpful.values.tolist(), columns=['numerator', 'denominator'],index=final_df_sentiment.index)\n",
    "# helpful_df.head()\n",
    "# final_df_sentiment[['helpful','total']] = pd.DataFrame(final_df_sentiment.helpful.values.tolist(), index=final_df_sentiment.index)\n",
    "\n",
    "#final_df_sentiment = final_df_sentiment[final_df_sentiment['total'] > 5])\n",
    "\n",
    "# helpfulness = final_df_sentiment[['helpful','asin']]\n",
    "# df3 = pd.DataFrame(helpfulness)\n",
    "# df3.head()\n",
    "# df3[['helpful','total']] = pd.DataFrame(df3.helpful.values.tolist(), index=df3.index)\n",
    "# dfhelpful = df3[['asin', 'helpful','total']]\n",
    "# temp_dfhelp = dfhelpful[dfhelpful['total']!=0]\n",
    "# temp_dfhelp = (temp_dfhelp[temp_dfhelp['total'] > 5])\n",
    "# temp_dfhelp = (temp_dfhelp[(temp_dfhelp['helpful'] / temp_dfhelp['total']) > 0.8 ])\n",
    "\n",
    "# final_df_sentiment_1 = final_df_sentiment.loc[final_df_sentiment['asin'].isin(temp_dfhelp['asin'])]\n",
    "# len(final_df_sentiment_1)"
   ]
  },
  {
   "cell_type": "code",
   "execution_count": 31,
   "metadata": {},
   "outputs": [],
   "source": [
    "final_df_sentiment[['numerator','denominator']] = pd.DataFrame(final_df_sentiment.helpful.values.tolist(), index= final_df_sentiment.index)"
   ]
  },
  {
   "cell_type": "code",
   "execution_count": 33,
   "metadata": {},
   "outputs": [],
   "source": [
    "final_df_sentiment.to_json('final_df_sentiment.json')"
   ]
  },
  {
   "cell_type": "code",
   "execution_count": 40,
   "metadata": {},
   "outputs": [],
   "source": [
    "final_df_sentiment = (final_df_sentiment[final_df_sentiment['denominator'] > 0])\n",
    "final_df_sentiment = final_df_sentiment[final_df_sentiment['numerator'] / final_df_sentiment['denominator'] >= 0.8] "
   ]
  },
  {
   "cell_type": "code",
   "execution_count": 42,
   "metadata": {},
   "outputs": [],
   "source": [
    "final_df_sentiment.to_json('final_df_sentiment.json')"
   ]
  },
  {
   "cell_type": "code",
   "execution_count": 43,
   "metadata": {},
   "outputs": [],
   "source": [
    "rating_review = final_df_sentiment[['reviewText','overall']]"
   ]
  },
  {
   "cell_type": "code",
   "execution_count": 46,
   "metadata": {},
   "outputs": [
    {
     "data": {
      "text/html": [
       "<div>\n",
       "<style scoped>\n",
       "    .dataframe tbody tr th:only-of-type {\n",
       "        vertical-align: middle;\n",
       "    }\n",
       "\n",
       "    .dataframe tbody tr th {\n",
       "        vertical-align: top;\n",
       "    }\n",
       "\n",
       "    .dataframe thead th {\n",
       "        text-align: right;\n",
       "    }\n",
       "</style>\n",
       "<table border=\"1\" class=\"dataframe\">\n",
       "  <thead>\n",
       "    <tr style=\"text-align: right;\">\n",
       "      <th></th>\n",
       "      <th>reviewText</th>\n",
       "      <th>overall</th>\n",
       "    </tr>\n",
       "  </thead>\n",
       "  <tbody>\n",
       "    <tr>\n",
       "      <th>109</th>\n",
       "      <td>A truly wonderfully made film, mostly accurate...</td>\n",
       "      <td>4</td>\n",
       "    </tr>\n",
       "    <tr>\n",
       "      <th>110</th>\n",
       "      <td>Joseph is amazing story to read and watch.  A ...</td>\n",
       "      <td>5</td>\n",
       "    </tr>\n",
       "    <tr>\n",
       "      <th>111</th>\n",
       "      <td>This WONDERFUL film is a total treat on every ...</td>\n",
       "      <td>5</td>\n",
       "    </tr>\n",
       "    <tr>\n",
       "      <th>112</th>\n",
       "      <td>Though this interpretation of Joseph's life ha...</td>\n",
       "      <td>5</td>\n",
       "    </tr>\n",
       "    <tr>\n",
       "      <th>113</th>\n",
       "      <td>I loved this story about Joseph. It's one of m...</td>\n",
       "      <td>5</td>\n",
       "    </tr>\n",
       "  </tbody>\n",
       "</table>\n",
       "</div>"
      ],
      "text/plain": [
       "                                            reviewText  overall\n",
       "109  A truly wonderfully made film, mostly accurate...        4\n",
       "110  Joseph is amazing story to read and watch.  A ...        5\n",
       "111  This WONDERFUL film is a total treat on every ...        5\n",
       "112  Though this interpretation of Joseph's life ha...        5\n",
       "113  I loved this story about Joseph. It's one of m...        5"
      ]
     },
     "execution_count": 46,
     "metadata": {},
     "output_type": "execute_result"
    }
   ],
   "source": [
    "rating_review.head()"
   ]
  },
  {
   "cell_type": "code",
   "execution_count": 47,
   "metadata": {},
   "outputs": [
    {
     "name": "stderr",
     "output_type": "stream",
     "text": [
      "/usr/local/lib/python2.7/dist-packages/ipykernel_launcher.py:1: SettingWithCopyWarning: \n",
      "A value is trying to be set on a copy of a slice from a DataFrame.\n",
      "Try using .loc[row_indexer,col_indexer] = value instead\n",
      "\n",
      "See the caveats in the documentation: http://pandas.pydata.org/pandas-docs/stable/indexing.html#indexing-view-versus-copy\n",
      "  \"\"\"Entry point for launching an IPython kernel.\n",
      "/usr/local/lib/python2.7/dist-packages/ipykernel_launcher.py:2: SettingWithCopyWarning: \n",
      "A value is trying to be set on a copy of a slice from a DataFrame.\n",
      "Try using .loc[row_indexer,col_indexer] = value instead\n",
      "\n",
      "See the caveats in the documentation: http://pandas.pydata.org/pandas-docs/stable/indexing.html#indexing-view-versus-copy\n",
      "  \n"
     ]
    }
   ],
   "source": [
    "rating_review[\"opinion\"] = rating_review[\"overall\"].apply(lambda value: \"good\" if value >= 3 else \"bad\")\n",
    "final_df_knn[\"opinion\"] = final_df_knn[\"overall\"].apply(lambda value: \"good\" if value >= 3 else \"bad\")"
   ]
  },
  {
   "cell_type": "code",
   "execution_count": 50,
   "metadata": {},
   "outputs": [
    {
     "data": {
      "text/html": [
       "<div>\n",
       "<style scoped>\n",
       "    .dataframe tbody tr th:only-of-type {\n",
       "        vertical-align: middle;\n",
       "    }\n",
       "\n",
       "    .dataframe tbody tr th {\n",
       "        vertical-align: top;\n",
       "    }\n",
       "\n",
       "    .dataframe thead th {\n",
       "        text-align: right;\n",
       "    }\n",
       "</style>\n",
       "<table border=\"1\" class=\"dataframe\">\n",
       "  <thead>\n",
       "    <tr style=\"text-align: right;\">\n",
       "      <th></th>\n",
       "      <th>reviewText</th>\n",
       "      <th>overall</th>\n",
       "      <th>opinion</th>\n",
       "    </tr>\n",
       "  </thead>\n",
       "  <tbody>\n",
       "    <tr>\n",
       "      <th>109</th>\n",
       "      <td>A truly wonderfully made film, mostly accurate...</td>\n",
       "      <td>4</td>\n",
       "      <td>good</td>\n",
       "    </tr>\n",
       "    <tr>\n",
       "      <th>166</th>\n",
       "      <td>I liked this movie, except one scene where Pot...</td>\n",
       "      <td>4</td>\n",
       "      <td>good</td>\n",
       "    </tr>\n",
       "    <tr>\n",
       "      <th>191</th>\n",
       "      <td>This four hour video looks a the familiar &amp;quo...</td>\n",
       "      <td>4</td>\n",
       "      <td>good</td>\n",
       "    </tr>\n",
       "  </tbody>\n",
       "</table>\n",
       "</div>"
      ],
      "text/plain": [
       "                                            reviewText  overall opinion\n",
       "109  A truly wonderfully made film, mostly accurate...        4    good\n",
       "166  I liked this movie, except one scene where Pot...        4    good\n",
       "191  This four hour video looks a the familiar &quo...        4    good"
      ]
     },
     "execution_count": 50,
     "metadata": {},
     "output_type": "execute_result"
    }
   ],
   "source": [
    "rating_review[rating_review.overall == 4].head(3)"
   ]
  },
  {
   "cell_type": "code",
   "execution_count": 51,
   "metadata": {},
   "outputs": [
    {
     "data": {
      "text/plain": [
       "109    A truly wonderfully made film, mostly accurate...\n",
       "110    Joseph is amazing story to read and watch.  A ...\n",
       "111    This WONDERFUL film is a total treat on every ...\n",
       "Name: reviewText, dtype: object"
      ]
     },
     "execution_count": 51,
     "metadata": {},
     "output_type": "execute_result"
    }
   ],
   "source": [
    "rating_review[\"reviewText\"].head(3)"
   ]
  },
  {
   "cell_type": "code",
   "execution_count": 55,
   "metadata": {},
   "outputs": [
    {
     "name": "stderr",
     "output_type": "stream",
     "text": [
      "/usr/local/lib/python2.7/dist-packages/ipykernel_launcher.py:7: SettingWithCopyWarning: \n",
      "A value is trying to be set on a copy of a slice from a DataFrame.\n",
      "Try using .loc[row_indexer,col_indexer] = value instead\n",
      "\n",
      "See the caveats in the documentation: http://pandas.pydata.org/pandas-docs/stable/indexing.html#indexing-view-versus-copy\n",
      "  import sys\n",
      "/usr/local/lib/python2.7/dist-packages/ipykernel_launcher.py:8: SettingWithCopyWarning: \n",
      "A value is trying to be set on a copy of a slice from a DataFrame.\n",
      "Try using .loc[row_indexer,col_indexer] = value instead\n",
      "\n",
      "See the caveats in the documentation: http://pandas.pydata.org/pandas-docs/stable/indexing.html#indexing-view-versus-copy\n",
      "  \n"
     ]
    }
   ],
   "source": [
    "regular_expression = re.compile('[^a-z]+')\n",
    "def process_text(review_text):\n",
    "    review_text = review_text.lower()\n",
    "    review_text = regular_expression.sub(' ', review_text).strip()\n",
    "    return review_text\n",
    "\n",
    "rating_review[\"processedReview\"] = rating_review[\"reviewText\"].apply(process_text)\n",
    "final_df_knn[\"processedReview\"] = final_df_knn[\"reviewText\"].apply(process_text)"
   ]
  },
  {
   "cell_type": "code",
   "execution_count": 59,
   "metadata": {},
   "outputs": [],
   "source": [
    "final_df_knn.to_json('final_df_knn_after_removing_spaces.json')\n",
    "rating_review.to_json('rating_review.json')"
   ]
  },
  {
   "cell_type": "code",
   "execution_count": 61,
   "metadata": {},
   "outputs": [],
   "source": [
    "rating_review = rating_review.drop(['reviewText', 'overall'],1)"
   ]
  },
  {
   "cell_type": "code",
   "execution_count": 62,
   "metadata": {},
   "outputs": [
    {
     "data": {
      "text/html": [
       "<div>\n",
       "<style scoped>\n",
       "    .dataframe tbody tr th:only-of-type {\n",
       "        vertical-align: middle;\n",
       "    }\n",
       "\n",
       "    .dataframe tbody tr th {\n",
       "        vertical-align: top;\n",
       "    }\n",
       "\n",
       "    .dataframe thead th {\n",
       "        text-align: right;\n",
       "    }\n",
       "</style>\n",
       "<table border=\"1\" class=\"dataframe\">\n",
       "  <thead>\n",
       "    <tr style=\"text-align: right;\">\n",
       "      <th></th>\n",
       "      <th>opinion</th>\n",
       "      <th>processedReview</th>\n",
       "    </tr>\n",
       "  </thead>\n",
       "  <tbody>\n",
       "    <tr>\n",
       "      <th>109</th>\n",
       "      <td>good</td>\n",
       "      <td>a truly wonderfully made film mostly accurate ...</td>\n",
       "    </tr>\n",
       "    <tr>\n",
       "      <th>110</th>\n",
       "      <td>good</td>\n",
       "      <td>joseph is amazing story to read and watch a pe...</td>\n",
       "    </tr>\n",
       "    <tr>\n",
       "      <th>111</th>\n",
       "      <td>good</td>\n",
       "      <td>this wonderful film is a total treat on every ...</td>\n",
       "    </tr>\n",
       "    <tr>\n",
       "      <th>112</th>\n",
       "      <td>good</td>\n",
       "      <td>though this interpretation of joseph s life ha...</td>\n",
       "    </tr>\n",
       "    <tr>\n",
       "      <th>113</th>\n",
       "      <td>good</td>\n",
       "      <td>i loved this story about joseph it s one of my...</td>\n",
       "    </tr>\n",
       "  </tbody>\n",
       "</table>\n",
       "</div>"
      ],
      "text/plain": [
       "    opinion                                    processedReview\n",
       "109    good  a truly wonderfully made film mostly accurate ...\n",
       "110    good  joseph is amazing story to read and watch a pe...\n",
       "111    good  this wonderful film is a total treat on every ...\n",
       "112    good  though this interpretation of joseph s life ha...\n",
       "113    good  i loved this story about joseph it s one of my..."
      ]
     },
     "execution_count": 62,
     "metadata": {},
     "output_type": "execute_result"
    }
   ],
   "source": [
    "rating_review.head()"
   ]
  },
  {
   "cell_type": "code",
   "execution_count": 63,
   "metadata": {},
   "outputs": [],
   "source": [
    "train_data = rating_review"
   ]
  },
  {
   "cell_type": "code",
   "execution_count": 64,
   "metadata": {},
   "outputs": [
    {
     "data": {
      "text/plain": [
       "(304084, 809924)"
      ]
     },
     "execution_count": 64,
     "metadata": {},
     "output_type": "execute_result"
    }
   ],
   "source": [
    "(len(train_data), len(final_df_knn))"
   ]
  },
  {
   "cell_type": "code",
   "execution_count": 73,
   "metadata": {},
   "outputs": [
    {
     "name": "stdout",
     "output_type": "stream",
     "text": [
      "304084\n"
     ]
    }
   ],
   "source": [
    "print len(train_data)"
   ]
  },
  {
   "cell_type": "code",
   "execution_count": 65,
   "metadata": {},
   "outputs": [],
   "source": [
    "#CountVectorizer to get bag of words model\n",
    "count_vectorizer = CountVectorizer(min_df = 1, ngram_range = (1, 3))\n",
    "X_train_bags = count_vectorizer.fit_transform(train_data[\"processedReview\"])\n",
    "\n",
    "#tfidf to bag of words\n",
    "tfidf_transformer = TfidfTransformer()\n",
    "X_train_data = tfidf_transformer.fit_transform(X_train_bags)\n",
    "\n",
    "Y_train_data = train_data[\"opinion\"]\n",
    "Y_test_knn_data = final_df_knn[\"opinion\"]\n",
    "predicted_output = dict();"
   ]
  },
  {
   "cell_type": "code",
   "execution_count": 66,
   "metadata": {},
   "outputs": [],
   "source": [
    "X_test_counts = count_vectorizer.transform(final_df_knn[\"processedReview\"])\n",
    "X_test_knn_data = tfidf_transformer.transform(X_test_counts)"
   ]
  },
  {
   "cell_type": "code",
   "execution_count": 98,
   "metadata": {},
   "outputs": [],
   "source": [
    "def save_sparse_csr(filename, array):\n",
    "    # note that .npz extension is added automatically\n",
    "    np.savez(filename, data=array.data, indices=array.indices,\n",
    "             indptr=array.indptr, shape=array.shape)\n",
    "\n",
    "def load_sparse_csr(filename):\n",
    "    # here we need to add .npz extension manually\n",
    "    loader = np.load(filename + '.npz')\n",
    "    return csr_matrix((loader['data'], loader['indices'], loader['indptr']),\n",
    "                      shape=loader['shape'])\n",
    "\n",
    "save_sparse_csr(\"X_train_data\",X_train_data)\n",
    "save_sparse_csr(\"X_test_knn_data\",X_test_knn_data)\n",
    "Y_test_knn_data.to_csv(\"Y_test_knn_data.csv\")"
   ]
  },
  {
   "cell_type": "code",
   "execution_count": 105,
   "metadata": {},
   "outputs": [],
   "source": [
    "Y_train_data.to_csv(\"Y_train_data.csv\")"
   ]
  },
  {
   "cell_type": "code",
   "execution_count": 102,
   "metadata": {},
   "outputs": [],
   "source": [
    "# Y_train_data = Series.from_csv('Y_train_data.csv')\n",
    "# X_train_data = load_sparse_csr(\"X_train_data\")\n",
    "# X_test_knn_data = load_sparse_csr(\"X_test_knn_data\")\n",
    "# Y_test_knn_data = Series.from_csv('Y_test_knn_data.csv')"
   ]
  },
  {
   "cell_type": "code",
   "execution_count": 106,
   "metadata": {},
   "outputs": [
    {
     "data": {
      "text/plain": [
       "pandas.core.series.Series"
      ]
     },
     "execution_count": 106,
     "metadata": {},
     "output_type": "execute_result"
    }
   ],
   "source": [
    "type(Y_train_data)"
   ]
  },
  {
   "cell_type": "code",
   "execution_count": 72,
   "metadata": {},
   "outputs": [],
   "source": [
    "logistic_regres = LogisticRegression(C=1e5)\n",
    "logistic_regres.fit(X_train_data, Y_train_data)\n",
    "predicted_output['logistic'] = logistic_regres.predict(X_test_knn_data)"
   ]
  },
  {
   "cell_type": "code",
   "execution_count": 75,
   "metadata": {},
   "outputs": [
    {
     "data": {
      "text/plain": [
       "0.9248275146803898"
      ]
     },
     "execution_count": 75,
     "metadata": {},
     "output_type": "execute_result"
    }
   ],
   "source": [
    "accuracy_score(Y_test_knn_data, predicted_output['logistic'])"
   ]
  },
  {
   "cell_type": "code",
   "execution_count": 83,
   "metadata": {},
   "outputs": [],
   "source": [
    "output = logistic_regres.predict_proba(X_test_knn_data)"
   ]
  },
  {
   "cell_type": "code",
   "execution_count": 86,
   "metadata": {},
   "outputs": [],
   "source": [
    "output_in_5  = output[:,1]*5"
   ]
  },
  {
   "cell_type": "code",
   "execution_count": 87,
   "metadata": {},
   "outputs": [
    {
     "name": "stderr",
     "output_type": "stream",
     "text": [
      "/usr/local/lib/python2.7/dist-packages/ipykernel_launcher.py:2: SettingWithCopyWarning: \n",
      "A value is trying to be set on a copy of a slice from a DataFrame.\n",
      "Try using .loc[row_indexer,col_indexer] = value instead\n",
      "\n",
      "See the caveats in the documentation: http://pandas.pydata.org/pandas-docs/stable/indexing.html#indexing-view-versus-copy\n",
      "  \n"
     ]
    },
    {
     "data": {
      "text/html": [
       "<div>\n",
       "<style scoped>\n",
       "    .dataframe tbody tr th:only-of-type {\n",
       "        vertical-align: middle;\n",
       "    }\n",
       "\n",
       "    .dataframe tbody tr th {\n",
       "        vertical-align: top;\n",
       "    }\n",
       "\n",
       "    .dataframe thead th {\n",
       "        text-align: right;\n",
       "    }\n",
       "</style>\n",
       "<table border=\"1\" class=\"dataframe\">\n",
       "  <thead>\n",
       "    <tr style=\"text-align: right;\">\n",
       "      <th></th>\n",
       "      <th>asin</th>\n",
       "      <th>helpful</th>\n",
       "      <th>overall</th>\n",
       "      <th>reviewText</th>\n",
       "      <th>reviewTime</th>\n",
       "      <th>reviewerID</th>\n",
       "      <th>reviewerName</th>\n",
       "      <th>summary</th>\n",
       "      <th>unixReviewTime</th>\n",
       "      <th>opinion</th>\n",
       "      <th>processedReview</th>\n",
       "      <th>predicted_rating</th>\n",
       "    </tr>\n",
       "  </thead>\n",
       "  <tbody>\n",
       "    <tr>\n",
       "      <th>0</th>\n",
       "      <td>0005019281</td>\n",
       "      <td>[0, 0]</td>\n",
       "      <td>4</td>\n",
       "      <td>This is a charming version of the classic Dick...</td>\n",
       "      <td>02 26, 2008</td>\n",
       "      <td>ADZPIG9QOCDG5</td>\n",
       "      <td>Alice L. Larson \"alice-loves-books\"</td>\n",
       "      <td>good version of a classic</td>\n",
       "      <td>1203984000</td>\n",
       "      <td>good</td>\n",
       "      <td>this is a charming version of the classic dick...</td>\n",
       "      <td>5.000000</td>\n",
       "    </tr>\n",
       "    <tr>\n",
       "      <th>1</th>\n",
       "      <td>0005019281</td>\n",
       "      <td>[0, 0]</td>\n",
       "      <td>3</td>\n",
       "      <td>It was good but not as emotionally moving as t...</td>\n",
       "      <td>12 30, 2013</td>\n",
       "      <td>A35947ZP82G7JH</td>\n",
       "      <td>Amarah Strack</td>\n",
       "      <td>Good but not as moving</td>\n",
       "      <td>1388361600</td>\n",
       "      <td>good</td>\n",
       "      <td>it was good but not as emotionally moving as t...</td>\n",
       "      <td>4.999790</td>\n",
       "    </tr>\n",
       "    <tr>\n",
       "      <th>2</th>\n",
       "      <td>0005019281</td>\n",
       "      <td>[0, 0]</td>\n",
       "      <td>3</td>\n",
       "      <td>Don't get me wrong, Winkler is a wonderful cha...</td>\n",
       "      <td>12 30, 2013</td>\n",
       "      <td>A3UORV8A9D5L2E</td>\n",
       "      <td>Amazon Customer</td>\n",
       "      <td>Winkler's Performance was ok at best!</td>\n",
       "      <td>1388361600</td>\n",
       "      <td>good</td>\n",
       "      <td>don t get me wrong winkler is a wonderful char...</td>\n",
       "      <td>4.617876</td>\n",
       "    </tr>\n",
       "    <tr>\n",
       "      <th>3</th>\n",
       "      <td>0005019281</td>\n",
       "      <td>[0, 0]</td>\n",
       "      <td>5</td>\n",
       "      <td>Henry Winkler is very good in this twist on th...</td>\n",
       "      <td>02 13, 2008</td>\n",
       "      <td>A1VKW06X1O2X7V</td>\n",
       "      <td>Amazon Customer \"Softmill\"</td>\n",
       "      <td>It's an enjoyable twist on the classic story</td>\n",
       "      <td>1202860800</td>\n",
       "      <td>good</td>\n",
       "      <td>henry winkler is very good in this twist on th...</td>\n",
       "      <td>4.999957</td>\n",
       "    </tr>\n",
       "    <tr>\n",
       "      <th>4</th>\n",
       "      <td>0005019281</td>\n",
       "      <td>[0, 0]</td>\n",
       "      <td>4</td>\n",
       "      <td>This is one of the best Scrooge movies out.  H...</td>\n",
       "      <td>12 22, 2013</td>\n",
       "      <td>A3R27T4HADWFFJ</td>\n",
       "      <td>BABE</td>\n",
       "      <td>Best Scrooge yet</td>\n",
       "      <td>1387670400</td>\n",
       "      <td>good</td>\n",
       "      <td>this is one of the best scrooge movies out hen...</td>\n",
       "      <td>5.000000</td>\n",
       "    </tr>\n",
       "  </tbody>\n",
       "</table>\n",
       "</div>"
      ],
      "text/plain": [
       "         asin helpful  overall  \\\n",
       "0  0005019281  [0, 0]        4   \n",
       "1  0005019281  [0, 0]        3   \n",
       "2  0005019281  [0, 0]        3   \n",
       "3  0005019281  [0, 0]        5   \n",
       "4  0005019281  [0, 0]        4   \n",
       "\n",
       "                                          reviewText   reviewTime  \\\n",
       "0  This is a charming version of the classic Dick...  02 26, 2008   \n",
       "1  It was good but not as emotionally moving as t...  12 30, 2013   \n",
       "2  Don't get me wrong, Winkler is a wonderful cha...  12 30, 2013   \n",
       "3  Henry Winkler is very good in this twist on th...  02 13, 2008   \n",
       "4  This is one of the best Scrooge movies out.  H...  12 22, 2013   \n",
       "\n",
       "       reviewerID                         reviewerName  \\\n",
       "0   ADZPIG9QOCDG5  Alice L. Larson \"alice-loves-books\"   \n",
       "1  A35947ZP82G7JH                        Amarah Strack   \n",
       "2  A3UORV8A9D5L2E                      Amazon Customer   \n",
       "3  A1VKW06X1O2X7V           Amazon Customer \"Softmill\"   \n",
       "4  A3R27T4HADWFFJ                                 BABE   \n",
       "\n",
       "                                        summary  unixReviewTime opinion  \\\n",
       "0                     good version of a classic      1203984000    good   \n",
       "1                        Good but not as moving      1388361600    good   \n",
       "2         Winkler's Performance was ok at best!      1388361600    good   \n",
       "3  It's an enjoyable twist on the classic story      1202860800    good   \n",
       "4                              Best Scrooge yet      1387670400    good   \n",
       "\n",
       "                                     processedReview  predicted_rating  \n",
       "0  this is a charming version of the classic dick...          5.000000  \n",
       "1  it was good but not as emotionally moving as t...          4.999790  \n",
       "2  don t get me wrong winkler is a wonderful char...          4.617876  \n",
       "3  henry winkler is very good in this twist on th...          4.999957  \n",
       "4  this is one of the best scrooge movies out hen...          5.000000  "
      ]
     },
     "execution_count": 87,
     "metadata": {},
     "output_type": "execute_result"
    }
   ],
   "source": [
    "# predicted_rating = test_output['logistic'][:,1]*5\n",
    "final_df_knn[\"predicted_rating\"] = output_in_5;\n",
    "final_df_knn.head()"
   ]
  },
  {
   "cell_type": "code",
   "execution_count": 88,
   "metadata": {},
   "outputs": [],
   "source": [
    "final_df_knn.to_json('final_result_after_logistic.json')"
   ]
  },
  {
   "cell_type": "code",
   "execution_count": 112,
   "metadata": {},
   "outputs": [
    {
     "data": {
      "text/html": [
       "<div>\n",
       "<style scoped>\n",
       "    .dataframe tbody tr th:only-of-type {\n",
       "        vertical-align: middle;\n",
       "    }\n",
       "\n",
       "    .dataframe tbody tr th {\n",
       "        vertical-align: top;\n",
       "    }\n",
       "\n",
       "    .dataframe thead th {\n",
       "        text-align: right;\n",
       "    }\n",
       "</style>\n",
       "<table border=\"1\" class=\"dataframe\">\n",
       "  <thead>\n",
       "    <tr style=\"text-align: right;\">\n",
       "      <th></th>\n",
       "      <th>asin</th>\n",
       "      <th>helpful</th>\n",
       "      <th>overall</th>\n",
       "      <th>reviewText</th>\n",
       "      <th>reviewTime</th>\n",
       "      <th>reviewerID</th>\n",
       "      <th>reviewerName</th>\n",
       "      <th>summary</th>\n",
       "      <th>unixReviewTime</th>\n",
       "      <th>opinion</th>\n",
       "      <th>processedReview</th>\n",
       "      <th>predicted_rating</th>\n",
       "    </tr>\n",
       "  </thead>\n",
       "  <tbody>\n",
       "    <tr>\n",
       "      <th>0</th>\n",
       "      <td>0005019281</td>\n",
       "      <td>[0, 0]</td>\n",
       "      <td>4</td>\n",
       "      <td>This is a charming version of the classic Dick...</td>\n",
       "      <td>02 26, 2008</td>\n",
       "      <td>ADZPIG9QOCDG5</td>\n",
       "      <td>Alice L. Larson \"alice-loves-books\"</td>\n",
       "      <td>good version of a classic</td>\n",
       "      <td>1203984000</td>\n",
       "      <td>good</td>\n",
       "      <td>this is a charming version of the classic dick...</td>\n",
       "      <td>5.000000</td>\n",
       "    </tr>\n",
       "    <tr>\n",
       "      <th>1</th>\n",
       "      <td>0005019281</td>\n",
       "      <td>[0, 0]</td>\n",
       "      <td>3</td>\n",
       "      <td>It was good but not as emotionally moving as t...</td>\n",
       "      <td>12 30, 2013</td>\n",
       "      <td>A35947ZP82G7JH</td>\n",
       "      <td>Amarah Strack</td>\n",
       "      <td>Good but not as moving</td>\n",
       "      <td>1388361600</td>\n",
       "      <td>good</td>\n",
       "      <td>it was good but not as emotionally moving as t...</td>\n",
       "      <td>4.999790</td>\n",
       "    </tr>\n",
       "    <tr>\n",
       "      <th>2</th>\n",
       "      <td>0005019281</td>\n",
       "      <td>[0, 0]</td>\n",
       "      <td>3</td>\n",
       "      <td>Don't get me wrong, Winkler is a wonderful cha...</td>\n",
       "      <td>12 30, 2013</td>\n",
       "      <td>A3UORV8A9D5L2E</td>\n",
       "      <td>Amazon Customer</td>\n",
       "      <td>Winkler's Performance was ok at best!</td>\n",
       "      <td>1388361600</td>\n",
       "      <td>good</td>\n",
       "      <td>don t get me wrong winkler is a wonderful char...</td>\n",
       "      <td>4.617876</td>\n",
       "    </tr>\n",
       "    <tr>\n",
       "      <th>3</th>\n",
       "      <td>0005019281</td>\n",
       "      <td>[0, 0]</td>\n",
       "      <td>5</td>\n",
       "      <td>Henry Winkler is very good in this twist on th...</td>\n",
       "      <td>02 13, 2008</td>\n",
       "      <td>A1VKW06X1O2X7V</td>\n",
       "      <td>Amazon Customer \"Softmill\"</td>\n",
       "      <td>It's an enjoyable twist on the classic story</td>\n",
       "      <td>1202860800</td>\n",
       "      <td>good</td>\n",
       "      <td>henry winkler is very good in this twist on th...</td>\n",
       "      <td>4.999957</td>\n",
       "    </tr>\n",
       "    <tr>\n",
       "      <th>4</th>\n",
       "      <td>0005019281</td>\n",
       "      <td>[0, 0]</td>\n",
       "      <td>4</td>\n",
       "      <td>This is one of the best Scrooge movies out.  H...</td>\n",
       "      <td>12 22, 2013</td>\n",
       "      <td>A3R27T4HADWFFJ</td>\n",
       "      <td>BABE</td>\n",
       "      <td>Best Scrooge yet</td>\n",
       "      <td>1387670400</td>\n",
       "      <td>good</td>\n",
       "      <td>this is one of the best scrooge movies out hen...</td>\n",
       "      <td>5.000000</td>\n",
       "    </tr>\n",
       "  </tbody>\n",
       "</table>\n",
       "</div>"
      ],
      "text/plain": [
       "         asin helpful  overall  \\\n",
       "0  0005019281  [0, 0]        4   \n",
       "1  0005019281  [0, 0]        3   \n",
       "2  0005019281  [0, 0]        3   \n",
       "3  0005019281  [0, 0]        5   \n",
       "4  0005019281  [0, 0]        4   \n",
       "\n",
       "                                          reviewText   reviewTime  \\\n",
       "0  This is a charming version of the classic Dick...  02 26, 2008   \n",
       "1  It was good but not as emotionally moving as t...  12 30, 2013   \n",
       "2  Don't get me wrong, Winkler is a wonderful cha...  12 30, 2013   \n",
       "3  Henry Winkler is very good in this twist on th...  02 13, 2008   \n",
       "4  This is one of the best Scrooge movies out.  H...  12 22, 2013   \n",
       "\n",
       "       reviewerID                         reviewerName  \\\n",
       "0   ADZPIG9QOCDG5  Alice L. Larson \"alice-loves-books\"   \n",
       "1  A35947ZP82G7JH                        Amarah Strack   \n",
       "2  A3UORV8A9D5L2E                      Amazon Customer   \n",
       "3  A1VKW06X1O2X7V           Amazon Customer \"Softmill\"   \n",
       "4  A3R27T4HADWFFJ                                 BABE   \n",
       "\n",
       "                                        summary  unixReviewTime opinion  \\\n",
       "0                     good version of a classic      1203984000    good   \n",
       "1                        Good but not as moving      1388361600    good   \n",
       "2         Winkler's Performance was ok at best!      1388361600    good   \n",
       "3  It's an enjoyable twist on the classic story      1202860800    good   \n",
       "4                              Best Scrooge yet      1387670400    good   \n",
       "\n",
       "                                     processedReview  predicted_rating  \n",
       "0  this is a charming version of the classic dick...          5.000000  \n",
       "1  it was good but not as emotionally moving as t...          4.999790  \n",
       "2  don t get me wrong winkler is a wonderful char...          4.617876  \n",
       "3  henry winkler is very good in this twist on th...          4.999957  \n",
       "4  this is one of the best scrooge movies out hen...          5.000000  "
      ]
     },
     "execution_count": 112,
     "metadata": {},
     "output_type": "execute_result"
    }
   ],
   "source": [
    "final_df_knn.head()"
   ]
  },
  {
   "cell_type": "code",
   "execution_count": null,
   "metadata": {},
   "outputs": [],
   "source": []
  }
 ],
 "metadata": {
  "kernelspec": {
   "display_name": "Python 2",
   "language": "python",
   "name": "python2"
  },
  "language_info": {
   "codemirror_mode": {
    "name": "ipython",
    "version": 2
   },
   "file_extension": ".py",
   "mimetype": "text/x-python",
   "name": "python",
   "nbconvert_exporter": "python",
   "pygments_lexer": "ipython2",
   "version": "2.7.12"
  }
 },
 "nbformat": 4,
 "nbformat_minor": 2
}
